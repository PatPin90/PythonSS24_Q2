{
 "cells": [
  {
   "cell_type": "code",
   "execution_count": 4,
   "id": "8131c277-edc4-4911-999c-63ebfed44e1a",
   "metadata": {},
   "outputs": [],
   "source": [
    "import pandas as pd"
   ]
  },
  {
   "cell_type": "code",
   "execution_count": 14,
   "id": "2d6b4f49-f6ab-4bcf-a98e-cbef7229c2ba",
   "metadata": {},
   "outputs": [
    {
     "name": "stdout",
     "output_type": "stream",
     "text": [
      "       Name  Population     Area     GDP Currency\n",
      "0   Germany    82521653   357385  3466.0      EUR\n",
      "1     Japan   126045000   377835  4938.0      YEN\n",
      "2    Canada    36503097  9984670  1529.0      CAD\n",
      "3     Italy    60501718   301338  1850.0      EUR\n",
      "4  Brazilia   208360000  8515770  1798.0     REAL\n"
     ]
    }
   ],
   "source": [
    "url= \"https://raw.githubusercontent.com/WHPAN0108/BHT-DataScience-S23/main/python-DS/country.csv\"\n",
    "# Read the CSV file into a Pandas DataFrame\n",
    "df = pd.read_csv(url)\n",
    "# Display the first few rows of the DataFrame to verify it's loaded correctly\n",
    "print(df.head())"
   ]
  },
  {
   "cell_type": "code",
   "execution_count": 7,
   "id": "4b801b5a-998e-4931-8912-44ffd0889065",
   "metadata": {},
   "outputs": [
    {
     "name": "stdout",
     "output_type": "stream",
     "text": [
      "         Population          Area          GDP\n",
      "count  7.000000e+00  7.000000e+00     6.000000\n",
      "mean   8.086839e+07  2.926464e+06  2387.500000\n",
      "std    6.670195e+07  4.348507e+06  1532.497537\n",
      "min    2.393827e+07  3.619700e+04   744.000000\n",
      "25%    3.235604e+07  3.293615e+05  1596.250000\n",
      "50%    6.050172e+07  3.778350e+05  1824.000000\n",
      "75%    1.042833e+08  4.713910e+06  3062.000000\n",
      "max    2.083600e+08  9.984670e+06  4938.000000\n"
     ]
    }
   ],
   "source": [
    "# Display descriptive statistics for the numerical column (count, mean, std, min, 25%, 50%, 75%, max\n",
    "print(df.describe())"
   ]
  },
  {
   "cell_type": "code",
   "execution_count": 8,
   "id": "2277dd72-8d43-4927-92bf-1aa4986845c9",
   "metadata": {},
   "outputs": [
    {
     "name": "stdout",
     "output_type": "stream",
     "text": [
      "        Name  Population     Area     GDP Currency\n",
      "3      Italy    60501718   301338  1850.0      EUR\n",
      "4   Brazilia   208360000  8515770  1798.0     REAL\n",
      "5     Taiwan    23938272    36197   744.0      NTD\n",
      "6  Venezuela    28208977   912050     NaN      VED\n"
     ]
    }
   ],
   "source": [
    "# Show the last 4 rows of the data frame.\n",
    "print(df.tail(4))"
   ]
  },
  {
   "cell_type": "code",
   "execution_count": 10,
   "id": "e049404b-b18b-4bd2-ad6f-81bd34210960",
   "metadata": {},
   "outputs": [
    {
     "name": "stdout",
     "output_type": "stream",
     "text": [
      "      Name  Population    Area     GDP Currency\n",
      "0  Germany    82521653  357385  3466.0      EUR\n",
      "3    Italy    60501718  301338  1850.0      EUR\n"
     ]
    }
   ],
   "source": [
    "# Show all the rows of countries that have the EURO\n",
    "euro_cntrs_df = df[df['Currency'] == 'EUR']\n",
    "print(euro_cntrs_df)"
   ]
  },
  {
   "cell_type": "code",
   "execution_count": 22,
   "id": "3164cf9c-f459-41a5-9994-5d19a1394bf8",
   "metadata": {},
   "outputs": [
    {
     "name": "stdout",
     "output_type": "stream",
     "text": [
      "        Name Currency\n",
      "0    Germany      EUR\n",
      "1      Japan      YEN\n",
      "2     Canada      CAD\n",
      "3      Italy      EUR\n",
      "4   Brazilia     REAL\n",
      "5     Taiwan      NTD\n",
      "6  Venezuela      VED\n"
     ]
    }
   ],
   "source": [
    "# Show only name and Currency in a new data frame\n",
    "name_currency_df = df[['Name', 'Currency']]\n",
    "print(name_currency_df)"
   ]
  },
  {
   "cell_type": "code",
   "execution_count": 16,
   "id": "fd7279b4-bbf8-4d12-bd2b-183f1e4d5a33",
   "metadata": {},
   "outputs": [
    {
     "name": "stdout",
     "output_type": "stream",
     "text": [
      "      Name  Population    Area     GDP Currency\n",
      "0  Germany    82521653  357385  3466.0      EUR\n",
      "1    Japan   126045000  377835  4938.0      YEN\n"
     ]
    }
   ],
   "source": [
    "# Show only the rows/countries that have more than 2000 GDP (it is in Milliarden USD Bruttoinlandsprodukt)\n",
    "gdp_2000plus_cntrs_df = df[df['GDP'] > 2000]\n",
    "print(gdp_2000plus_cntrs_df)"
   ]
  },
  {
   "cell_type": "code",
   "execution_count": 23,
   "id": "2bb2d4cc-e8ee-4973-96f8-d2b92bfacf33",
   "metadata": {},
   "outputs": [
    {
     "name": "stdout",
     "output_type": "stream",
     "text": [
      "      Name  Population    Area     GDP Currency\n",
      "0  Germany    82521653  357385  3466.0      EUR\n",
      "1    Japan   126045000  377835  4938.0      YEN\n",
      "3    Italy    60501718  301338  1850.0      EUR\n"
     ]
    }
   ],
   "source": [
    "# Select all countries with inhabitants between 50 and 150 Mio\n",
    "pop_50_150_df = df[(df['Population'] >= 50e6) & (df['Population'] <= 150e6)]\n",
    "print(pop_50_150_df)"
   ]
  },
  {
   "cell_type": "code",
   "execution_count": 24,
   "id": "bd106b5a-4b7b-43b8-b6c4-c04c8f768b7f",
   "metadata": {},
   "outputs": [
    {
     "name": "stdout",
     "output_type": "stream",
     "text": [
      "GDP average (ignoring missing values): 2387.5\n"
     ]
    }
   ],
   "source": [
    "# Calculate the GDP average (ignore the missing value)\n",
    "gdp_average_df = df['GDP'].mean()\n",
    "print(\"GDP average (ignoring missing values):\" , gdp_average_df)"
   ]
  },
  {
   "cell_type": "code",
   "execution_count": 25,
   "id": "cb7b98d6-bfe3-45fb-b4f0-8808ec0c75b6",
   "metadata": {},
   "outputs": [
    {
     "name": "stdout",
     "output_type": "stream",
     "text": [
      "GDP average (missing value treated as 0): 2046.4285714285713\n"
     ]
    }
   ],
   "source": [
    "# Calculate the GDP average (missing value treated as 0)\n",
    "gdp_average_df_1 = df['GDP'].fillna(0).mean()\n",
    "print(\"GDP average (missing value treated as 0):\", gdp_average_df_1)"
   ]
  },
  {
   "cell_type": "code",
   "execution_count": 26,
   "id": "84106b9e-a000-4f4e-a832-59c96b83f3b0",
   "metadata": {},
   "outputs": [
    {
     "name": "stdout",
     "output_type": "stream",
     "text": [
      "        Name  Population     Area     GDP Currency  Population_Density\n",
      "0    Germany    82521653   357385  3466.0      EUR          230.904075\n",
      "1      Japan   126045000   377835  4938.0      YEN          333.597999\n",
      "2     Canada    36503097  9984670  1529.0      CAD            3.655914\n",
      "3      Italy    60501718   301338  1850.0      EUR          200.776928\n",
      "4   Brazilia   208360000  8515770  1798.0     REAL           24.467547\n",
      "5     Taiwan    23938272    36197   744.0      NTD          661.333039\n",
      "6  Venezuela    28208977   912050     NaN      VED           30.929200\n"
     ]
    }
   ],
   "source": [
    "# Calculate the population density (population/area)  of all countries and add as new column\n",
    "df['Population_Density'] = df['Population'] / df['Area']\n",
    "print(df)"
   ]
  },
  {
   "cell_type": "code",
   "execution_count": 27,
   "id": "5ac4c0da-9b6e-432c-9d27-90ee100592c4",
   "metadata": {},
   "outputs": [
    {
     "name": "stdout",
     "output_type": "stream",
     "text": [
      "        Name  Population     Area     GDP Currency  Population_Density\n",
      "4   Brazilia   208360000  8515770  1798.0     REAL           24.467547\n",
      "2     Canada    36503097  9984670  1529.0      CAD            3.655914\n",
      "0    Germany    82521653   357385  3466.0      EUR          230.904075\n",
      "3      Italy    60501718   301338  1850.0      EUR          200.776928\n",
      "1      Japan   126045000   377835  4938.0      YEN          333.597999\n",
      "5     Taiwan    23938272    36197   744.0      NTD          661.333039\n",
      "6  Venezuela    28208977   912050     NaN      VED           30.929200\n"
     ]
    }
   ],
   "source": [
    "# Sort by country name alphabetically\n",
    "df_name_sorted = df.sort_values(by='Name')\n",
    "print(df_name_sorted)"
   ]
  },
  {
   "cell_type": "code",
   "execution_count": 28,
   "id": "1edd70a3-be30-4c7b-a9aa-73deee895f5a",
   "metadata": {},
   "outputs": [
    {
     "name": "stdout",
     "output_type": "stream",
     "text": [
      "        Name  Population   Area     GDP Currency  Population_Density\n",
      "0    Germany    82521653  SMALL  3466.0      EUR          230.904075\n",
      "1      Japan   126045000  SMALL  4938.0      YEN          333.597999\n",
      "2     Canada    36503097    BIG  1529.0      CAD            3.655914\n",
      "3      Italy    60501718  SMALL  1850.0      EUR          200.776928\n",
      "4   Brazilia   208360000    BIG  1798.0     REAL           24.467547\n",
      "5     Taiwan    23938272  SMALL   744.0      NTD          661.333039\n",
      "6  Venezuela    28208977  SMALL     NaN      VED           30.929200\n"
     ]
    }
   ],
   "source": [
    "# Create a new data frame from the original where the area is changed: all countries with > 1000000 get BIG and <= 1000000 get SMALL in the cell replaced!\n",
    "df_area_labelled = df.copy()\n",
    "df_area_labelled['Area'] = df_area_labelled['Area'].apply(lambda x: 'BIG' if x > 1000000 else 'SMALL')\n",
    "print(df_area_labelled)"
   ]
  },
  {
   "cell_type": "code",
   "execution_count": null,
   "id": "ce1f64a9-d022-426b-9739-a63477ca5623",
   "metadata": {},
   "outputs": [],
   "source": []
  }
 ],
 "metadata": {
  "kernelspec": {
   "display_name": "Python 3 (ipykernel)",
   "language": "python",
   "name": "python3"
  },
  "language_info": {
   "codemirror_mode": {
    "name": "ipython",
    "version": 3
   },
   "file_extension": ".py",
   "mimetype": "text/x-python",
   "name": "python",
   "nbconvert_exporter": "python",
   "pygments_lexer": "ipython3",
   "version": "3.9.12"
  }
 },
 "nbformat": 4,
 "nbformat_minor": 5
}
